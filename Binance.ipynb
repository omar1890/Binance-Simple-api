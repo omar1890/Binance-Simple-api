{
 "cells": [
  {
   "cell_type": "markdown",
   "metadata": {},
   "source": [
    "# This Notebook contains my tries to use web socket with binance and it works "
   ]
  },
  {
   "cell_type": "markdown",
   "metadata": {},
   "source": [
    "API Key: g5Sbm9dEa32nYv0E6dZ0ydpteWoFnDLDcLg2PsQ1XjCnUE3vp8jQcNC3CWzoeJnC\n",
    "\n",
    "Secret Key: IAT3DKg6G2bNboN9vCgRTDm4UbkqGVgQi7oWc5v3sVTi0K0tl14XJX7qyROC49qO"
   ]
  },
  {
   "cell_type": "code",
   "execution_count": null,
   "metadata": {},
   "outputs": [],
   "source": [
    "# %pip install python-binance\n",
    "# %pip install flask\n",
    "# %pip install flask-sock\n",
    "# %pip install flask-socketio\n",
    "# %pip install Werkzeug==1.0.1\n",
    "\n",
    "%pip install Werkzeug==1.0.1"
   ]
  },
  {
   "cell_type": "code",
   "execution_count": 2,
   "metadata": {},
   "outputs": [
    {
     "name": "stdout",
     "output_type": "stream",
     "text": [
      "Collecting virtualenv\n",
      "  Downloading virtualenv-20.14.1-py2.py3-none-any.whl (8.8 MB)\n",
      "     ---------------------------------------- 8.8/8.8 MB 173.8 kB/s eta 0:00:00\n",
      "Requirement already satisfied: six<2,>=1.9.0 in c:\\users\\omar wael\\appdata\\local\\programs\\python\\python310\\lib\\site-packages (from virtualenv) (1.16.0)\n",
      "Collecting distlib<1,>=0.3.1\n",
      "  Downloading distlib-0.3.4-py2.py3-none-any.whl (461 kB)\n",
      "     ------------------------------------ 461.2/461.2 kB 257.7 kB/s eta 0:00:00\n",
      "Collecting platformdirs<3,>=2\n",
      "  Downloading platformdirs-2.5.2-py3-none-any.whl (14 kB)\n",
      "Collecting filelock<4,>=3.2\n",
      "  Downloading filelock-3.7.1-py3-none-any.whl (10 kB)\n",
      "Installing collected packages: distlib, platformdirs, filelock, virtualenv\n",
      "Successfully installed distlib-0.3.4 filelock-3.7.1 platformdirs-2.5.2 virtualenv-20.14.1\n",
      "Note: you may need to restart the kernel to use updated packages.\n"
     ]
    },
    {
     "name": "stderr",
     "output_type": "stream",
     "text": [
      "  WARNING: The script virtualenv.exe is installed in 'c:\\Users\\Omar Wael\\AppData\\Local\\Programs\\Python\\Python310\\Scripts' which is not on PATH.\n",
      "  Consider adding this directory to PATH or, if you prefer to suppress this warning, use --no-warn-script-location.\n"
     ]
    }
   ],
   "source": [
    "%pip install  virtualenv"
   ]
  },
  {
   "cell_type": "code",
   "execution_count": 10,
   "metadata": {},
   "outputs": [
    {
     "data": {
      "text/plain": [
       "flask_socketio.SocketIO"
      ]
     },
     "execution_count": 10,
     "metadata": {},
     "output_type": "execute_result"
    }
   ],
   "source": [
    "from flask_socketio import SocketIO\n",
    "SocketIO"
   ]
  },
  {
   "cell_type": "code",
   "execution_count": 27,
   "metadata": {},
   "outputs": [],
   "source": [
    "import os\n",
    "from binance.client import Client"
   ]
  },
  {
   "cell_type": "code",
   "execution_count": 3,
   "metadata": {},
   "outputs": [
    {
     "ename": "NameError",
     "evalue": "name 'Client' is not defined",
     "output_type": "error",
     "traceback": [
      "\u001b[1;31m---------------------------------------------------------------------------\u001b[0m",
      "\u001b[1;31mNameError\u001b[0m                                 Traceback (most recent call last)",
      "\u001b[1;32me:\\ITI -AI pro\\Jobs To Apply\\Tiarira Adventure\\Binance.ipynb Cell 4'\u001b[0m in \u001b[0;36m<cell line: 3>\u001b[1;34m()\u001b[0m\n\u001b[0;32m      <a href='vscode-notebook-cell:/e%3A/ITI%20-AI%20pro/Jobs%20To%20Apply/Tiarira%20Adventure/Binance.ipynb#ch0000003?line=0'>1</a>\u001b[0m api_key \u001b[39m=\u001b[39m \u001b[39m'\u001b[39m\u001b[39mg5Sbm9dEa32nYv0E6dZ0ydpteWoFnDLDcLg2PsQ1XjCnUE3vp8jQcNC3CWzoeJnC\u001b[39m\u001b[39m'\u001b[39m\n\u001b[0;32m      <a href='vscode-notebook-cell:/e%3A/ITI%20-AI%20pro/Jobs%20To%20Apply/Tiarira%20Adventure/Binance.ipynb#ch0000003?line=1'>2</a>\u001b[0m api_secret \u001b[39m=\u001b[39m \u001b[39m'\u001b[39m\u001b[39mIAT3DKg6G2bNboN9vCgRTDm4UbkqGVgQi7oWc5v3sVTi0K0tl14XJX7qyROC49qO\u001b[39m\u001b[39m'\u001b[39m\n\u001b[1;32m----> <a href='vscode-notebook-cell:/e%3A/ITI%20-AI%20pro/Jobs%20To%20Apply/Tiarira%20Adventure/Binance.ipynb#ch0000003?line=2'>3</a>\u001b[0m client \u001b[39m=\u001b[39m Client(api_key, api_secret)\n\u001b[0;32m      <a href='vscode-notebook-cell:/e%3A/ITI%20-AI%20pro/Jobs%20To%20Apply/Tiarira%20Adventure/Binance.ipynb#ch0000003?line=3'>4</a>\u001b[0m client\u001b[39m.\u001b[39mAPI_URL \u001b[39m=\u001b[39m \u001b[39m'\u001b[39m\u001b[39mhttps://testnet.binance.vision/api\u001b[39m\u001b[39m'\u001b[39m\n",
      "\u001b[1;31mNameError\u001b[0m: name 'Client' is not defined"
     ]
    }
   ],
   "source": [
    "api_key = 'g5Sbm9dEa32nYv0E6dZ0ydpteWoFnDLDcLg2PsQ1XjCnUE3vp8jQcNC3CWzoeJnC'\n",
    "api_secret = 'IAT3DKg6G2bNboN9vCgRTDm4UbkqGVgQi7oWc5v3sVTi0K0tl14XJX7qyROC49qO'\n",
    "client = Client(api_key, api_secret)\n",
    "client.API_URL = 'https://testnet.binance.vision/api'"
   ]
  },
  {
   "cell_type": "code",
   "execution_count": 29,
   "metadata": {},
   "outputs": [],
   "source": []
  },
  {
   "cell_type": "code",
   "execution_count": 5,
   "metadata": {},
   "outputs": [
    {
     "name": "stdout",
     "output_type": "stream",
     "text": [
      "{'makerCommission': 0, 'takerCommission': 0, 'buyerCommission': 0, 'sellerCommission': 0, 'canTrade': True, 'canWithdraw': False, 'canDeposit': False, 'updateTime': 1654868086921, 'accountType': 'SPOT', 'balances': [{'asset': 'BNB', 'free': '1000.00000000', 'locked': '0.00000000'}, {'asset': 'BTC', 'free': '1.00000000', 'locked': '0.00000000'}, {'asset': 'BUSD', 'free': '10000.00000000', 'locked': '0.00000000'}, {'asset': 'ETH', 'free': '100.00000000', 'locked': '0.00000000'}, {'asset': 'LTC', 'free': '500.00000000', 'locked': '0.00000000'}, {'asset': 'TRX', 'free': '500000.00000000', 'locked': '0.00000000'}, {'asset': 'USDT', 'free': '10000.00000000', 'locked': '0.00000000'}, {'asset': 'XRP', 'free': '50000.00000000', 'locked': '0.00000000'}], 'permissions': ['SPOT']}\n"
     ]
    }
   ],
   "source": [
    "# get balances for all assets & some account information\n",
    "print(client.get_account())"
   ]
  },
  {
   "cell_type": "code",
   "execution_count": 6,
   "metadata": {},
   "outputs": [
    {
     "name": "stdout",
     "output_type": "stream",
     "text": [
      "{'symbol': 'BTCUSDT', 'price': '29608.93000000'}\n"
     ]
    }
   ],
   "source": [
    "# get latest price from Binance API\n",
    "btc_price = client.get_symbol_ticker(symbol=\"BTCUSDT\")\n",
    "# print full output (dictionary)\n",
    "print(btc_price)"
   ]
  },
  {
   "cell_type": "markdown",
   "metadata": {},
   "source": [
    "Binance WebSocket"
   ]
  },
  {
   "cell_type": "code",
   "execution_count": 2,
   "metadata": {},
   "outputs": [],
   "source": [
    "from time import sleep\n",
    "\n",
    "from binance import ThreadedWebsocketManager"
   ]
  },
  {
   "cell_type": "code",
   "execution_count": 1,
   "metadata": {},
   "outputs": [],
   "source": [
    "def btc_trade_history(msg):\n",
    "    ''' define how to process incoming WebSocket messages '''\n",
    "    if msg['e'] != 'error':\n",
    "        print(msg['c'])\n",
    "    else:\n",
    "        print(msg['e'])"
   ]
  },
  {
   "cell_type": "code",
   "execution_count": 4,
   "metadata": {},
   "outputs": [
    {
     "data": {
      "text/plain": [
       "'btcusdt@ticker'"
      ]
     },
     "execution_count": 4,
     "metadata": {},
     "output_type": "execute_result"
    },
    {
     "name": "stdout",
     "output_type": "stream",
     "text": [
      "29123.86000000\n",
      "29123.86000000\n",
      "29123.85000000\n",
      "29123.86000000\n",
      "29123.86000000\n"
     ]
    }
   ],
   "source": [
    "# init and start the WebSocket\n",
    "bsm = ThreadedWebsocketManager()\n",
    "bsm.start()\n",
    "# subscribe to a stream\n",
    "bsm.start_symbol_ticker_socket(callback=btc_trade_history, symbol='BTCUSDT')"
   ]
  },
  {
   "cell_type": "code",
   "execution_count": 5,
   "metadata": {},
   "outputs": [
    {
     "name": "stdout",
     "output_type": "stream",
     "text": [
      "29123.85000000\n"
     ]
    },
    {
     "name": "stderr",
     "output_type": "stream",
     "text": [
      "CANCEL read_loop\n"
     ]
    },
    {
     "name": "stdout",
     "output_type": "stream",
     "text": [
      "29123.86000000\n"
     ]
    }
   ],
   "source": [
    "bsm.stop()"
   ]
  },
  {
   "cell_type": "code",
   "execution_count": 30,
   "metadata": {},
   "outputs": [
    {
     "name": "stdout",
     "output_type": "stream",
     "text": [
      "1654732800000\n"
     ]
    }
   ],
   "source": [
    "timestamp = client._get_earliest_valid_timestamp('BTCUSDT', '1d')\n",
    "print(timestamp)"
   ]
  },
  {
   "cell_type": "code",
   "execution_count": null,
   "metadata": {},
   "outputs": [],
   "source": []
  }
 ],
 "metadata": {
  "kernelspec": {
   "display_name": "Python 3.10.4 64-bit",
   "language": "python",
   "name": "python3"
  },
  "language_info": {
   "codemirror_mode": {
    "name": "ipython",
    "version": 3
   },
   "file_extension": ".py",
   "mimetype": "text/x-python",
   "name": "python",
   "nbconvert_exporter": "python",
   "pygments_lexer": "ipython3",
   "version": "3.10.4"
  },
  "orig_nbformat": 4,
  "vscode": {
   "interpreter": {
    "hash": "b1f9457ba8134432e091eec8a0c958927e0852ff3bcc800274dc10a51bb65ba6"
   }
  }
 },
 "nbformat": 4,
 "nbformat_minor": 2
}
